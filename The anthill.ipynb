{
 "cells": [
  {
   "cell_type": "code",
   "execution_count": 2,
   "id": "8089db8a",
   "metadata": {},
   "outputs": [],
   "source": [
    "import numpy as np"
   ]
  },
  {
   "cell_type": "markdown",
   "id": "c85e1ef4",
   "metadata": {},
   "source": [
    "# Foraging ant on an anthill\n",
    "This notebook simulates a two-dimensional random walk with various boundary conditions(where the food is placed) to find out the average time it would take an ant to reach the food. The problem is challenge by Optiver to be submitted by candidates applying for quantitative researcher roles. The first two parts of the challenge can be done analytically but we will also confirm our results numerically.  \n",
    ">An ant leaves its anthill in order to forage for food. It moves with the speed of 10 cm per second, but it doesn't know where to go, therefore every second it moves randomly 10 cm directly north, south, east or west with equal probability.\n",
    "\n",
    "We start by defining a class: `random_walk` upon which we will build our different scenarios. To define this class we need to import the following methods"
   ]
  },
  {
   "cell_type": "markdown",
   "id": "d48343f9",
   "metadata": {},
   "source": [
    "We need a bunch of ants at some starting (x,y) position which move randomly at the speed of v0 in each time step dt"
   ]
  },
  {
   "cell_type": "code",
   "execution_count": 105,
   "id": "619756c7",
   "metadata": {},
   "outputs": [],
   "source": [
    "def forager(ants,steps, sx, sy,dt,v0):\n",
    "    positions = np.zeros(shape=(ants, 2))\n",
    "    positions[:, 0] = sx\n",
    "    positions[:, 1] = sy\n",
    "    time=np.zeros(shape=(ants))\n",
    "    #Now implement the random walk\n",
    "    for i in range(steps):\n",
    "        # Generate an array with random integers between 0 - 3 to decide the direction of walk\n",
    "        direction = np.random.randint(low=0, high=4, size=ants)\n",
    "        \n",
    "        north = np.where(direction == 0)[0]\n",
    "        positions[north, 1] += dt * v0\n",
    "\n",
    "        south = np.where(direction == 1)[0]\n",
    "        positions[south, 1] -= dt * v0\n",
    "\n",
    "        east = np.where(direction == 2)[0]\n",
    "        positions[east, 0] += dt * v0\n",
    "\n",
    "        west = np.where(direction == 3)[0]\n",
    "        positions[west, 0] -= dt * v0\n",
    "        #update the time\n",
    "        time[~np.isnan(positions[:, 0])] += 1\n",
    "        # Set a flag to see if ants have reached the boundary\n",
    "        bdy=boundary(positions)\n",
    "        positions[bdy, :] = np.nan\n",
    "    got_food=np.isnan(positions[:,0])\n",
    "    return time[got_food].mean()"
   ]
  },
  {
   "cell_type": "markdown",
   "id": "fc0055d7",
   "metadata": {},
   "source": [
    "Now we use our code to compute the average time for the first case:\n",
    "\n",
    ">If the food is located on east-west lines 20 cm to the north and 20 cm to the south, as well as on north-south lines 20 cm to the east and 20 cm to the west from the anthill, how long will it take the ant to reach it on average?\n"
   ]
  },
  {
   "cell_type": "code",
   "execution_count": 106,
   "id": "3b76cbad",
   "metadata": {},
   "outputs": [
    {
     "name": "stdout",
     "output_type": "stream",
     "text": [
      "average time is 4.50 seconds\n"
     ]
    }
   ],
   "source": [
    "#Now define boundary depending on different cases\n",
    "#for the first case it is given by\n",
    "def boundary(pos):\n",
    "    return(np.abs(pos[:, 0]) >= 20) | (np.abs(pos[:, 1]) >= 20)\n",
    "print(\"average time is {:.2f} seconds\".format(forager(100000,1000, 0, 0,1,10)))"
   ]
  },
  {
   "cell_type": "markdown",
   "id": "1bd5beca",
   "metadata": {},
   "source": [
    ">What is the average time the ant will reach food if it is located only on a diagonal line passing through (10cm, 0cm) and (0cm, 10cm) points?"
   ]
  },
  {
   "cell_type": "code",
   "execution_count": 107,
   "id": "12311cac",
   "metadata": {},
   "outputs": [
    {
     "name": "stdout",
     "output_type": "stream",
     "text": [
      "[2.272963203262582, 7.613954600800139, 24.520203731657475, 77.91519203041028]\n"
     ]
    }
   ],
   "source": [
    "def boundary(pos):\n",
    "    return np.nansum(pos, axis=1) == 10\n",
    "av_times=[]\n",
    "for st in range(1,5):\n",
    "    av_times.append(forager(100000,10**st, 0, 0,1,10))\n",
    "print(av_times)"
   ]
  },
  {
   "cell_type": "markdown",
   "id": "87285d76",
   "metadata": {},
   "source": [
    "As we can see from above, as we give ants more time, the average time to reach the food does not converge to a single value. This is because the average time is actually infinite due to an open boundary."
   ]
  },
  {
   "cell_type": "markdown",
   "id": "65009777",
   "metadata": {},
   "source": [
    "\n",
    "> Can you write a program that comes up with an estimate of average time to find food for any closed boundary around the anthill? \n",
    "\n",
    "Of course.\n",
    "\n",
    ">What would be the answer if food is located outside an defined by ( (x – 2.5cm) / 30cm )2 + ( (y – 2.5cm) / 40cm )2 < 1 in coordinate system where the anthill is located at (x = 0cm, y = 0cm)? Provide us with a solution rounded to the nearest integer.\n"
   ]
  },
  {
   "cell_type": "code",
   "execution_count": 108,
   "id": "2bfbf110",
   "metadata": {},
   "outputs": [
    {
     "name": "stdout",
     "output_type": "stream",
     "text": [
      "average time is 14.04 seconds\n"
     ]
    }
   ],
   "source": [
    "def boundary(pos):\n",
    "    return np.square((pos[:, 0] - 2.5) / 30) + np.square((pos[:, 1] - 2.5) / 40) >= 1\n",
    "print(\"average time is {:.2f} seconds\".format(forager(100000,1000, 0, 0,1,10)))"
   ]
  },
  {
   "cell_type": "code",
   "execution_count": null,
   "id": "66cb5055",
   "metadata": {},
   "outputs": [],
   "source": []
  },
  {
   "cell_type": "code",
   "execution_count": null,
   "id": "cba6d020",
   "metadata": {},
   "outputs": [],
   "source": []
  }
 ],
 "metadata": {
  "kernelspec": {
   "display_name": "Python 3 (ipykernel)",
   "language": "python",
   "name": "python3"
  },
  "language_info": {
   "codemirror_mode": {
    "name": "ipython",
    "version": 3
   },
   "file_extension": ".py",
   "mimetype": "text/x-python",
   "name": "python",
   "nbconvert_exporter": "python",
   "pygments_lexer": "ipython3",
   "version": "3.7.11"
  }
 },
 "nbformat": 4,
 "nbformat_minor": 5
}
